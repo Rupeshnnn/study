{
 "cells": [
  {
   "cell_type": "code",
   "execution_count": 2,
   "metadata": {},
   "outputs": [],
   "source": [
    "import requests\n",
    "from bs4 import BeautifulSoup"
   ]
  },
  {
   "cell_type": "code",
   "execution_count": 3,
   "metadata": {},
   "outputs": [
    {
     "name": "stdout",
     "output_type": "stream",
     "text": [
      "Total Cases:  94,395,515\n",
      "Total Deaths:  2,019,868\n",
      "Total Recovered:  67,440,201\n"
     ]
    }
   ],
   "source": [
    "url = \"https://www.worldometers.info/coronavirus/\"\n",
    "req = requests.get(url)\n",
    "bsObj = BeautifulSoup(req.text, \"html.parser\")\n",
    "data = bsObj.find_all(\"div\",class_ = \"maincounter-number\")\n",
    "\n",
    "print(\"Total Cases: \", data[0].text.strip())\n",
    "print(\"Total Deaths: \", data[1].text.strip())\n",
    "print(\"Total Recovered: \", data[2].text.strip())"
   ]
  },
  {
   "cell_type": "code",
   "execution_count": 4,
   "metadata": {},
   "outputs": [],
   "source": [
    "import matplotlib.pyplot as plt\n",
    "import numpy as np\n"
   ]
  },
  {
   "cell_type": "code",
   "execution_count": 5,
   "metadata": {},
   "outputs": [],
   "source": [
    "labels ='Total Cases','Total Deaths','Total Recovered'"
   ]
  },
  {
   "cell_type": "code",
   "execution_count": 6,
   "metadata": {},
   "outputs": [],
   "source": [
    "sizes =[94379546,2019358,67407401]\n",
    "explode =(0,0,0)"
   ]
  },
  {
   "cell_type": "code",
   "execution_count": 7,
   "metadata": {},
   "outputs": [
    {
     "data": {
      "text/plain": [
       "([<matplotlib.patches.Wedge at 0x7f2971127990>,\n",
       "  <matplotlib.patches.Wedge at 0x7f2970931150>,\n",
       "  <matplotlib.patches.Wedge at 0x7f2970931bd0>],\n",
       " [Text(-1.0686595038086948, -0.26070455484965077, 'Total Cases'),\n",
       "  Text(0.5439797558805868, -0.956078461838827, 'Total Deaths'),\n",
       "  Text(1.0577639804152767, 0.30188633910137486, 'Total Recovered')],\n",
       " [Text(-0.5829051838956516, -0.14220248446344586, '57.6%'),\n",
       "  Text(0.29671623048032003, -0.5214973428211783, '1.2%'),\n",
       "  Text(0.5769621711356054, 0.16466527587347718, '41.2%')])"
      ]
     },
     "execution_count": 7,
     "metadata": {},
     "output_type": "execute_result"
    },
    {
     "data": {
      "image/png": "[encoded data removed]",
      "text/plain": [
       "<Figure size 432x288 with 1 Axes>"
      ]
     },
     "metadata": {},
     "output_type": "display_data"
    }
   ],
   "source": [
    "plt.pie(sizes,explode = explode,labels = labels,autopct='%1.1f%%',shadow=True,startangle=90)"
   ]
  },
  {
   "cell_type": "code",
   "execution_count": null,
   "metadata": {},
   "outputs": [],
   "source": []
  },
  {
   "cell_type": "code",
   "execution_count": null,
   "metadata": {},
   "outputs": [],
   "source": []
  },
  {
   "cell_type": "code",
   "execution_count": null,
   "metadata": {},
   "outputs": [],
   "source": []
  },
  {
   "cell_type": "code",
   "execution_count": null,
   "metadata": {},
   "outputs": [],
   "source": []
  }
 ],
 "metadata": {
  "kernelspec": {
   "display_name": "Python 3",
   "language": "python",
   "name": "python3"
  },
  "language_info": {
   "codemirror_mode": {
    "name": "ipython",
    "version": 3
   },
   "file_extension": ".py",
   "mimetype": "text/x-python",
   "name": "python",
   "nbconvert_exporter": "python",
   "pygments_lexer": "ipython3",
   "version": "3.7.7"
  }
 },
 "nbformat": 4,
 "nbformat_minor": 4
}
